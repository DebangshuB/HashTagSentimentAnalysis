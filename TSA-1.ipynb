{
 "cells": [
  {
   "cell_type": "markdown",
   "metadata": {
    "id": "GlUtAt6STqdn"
   },
   "source": [
    "# Twitter Sentiment Analysis\n",
    "#### Using Sentiment140 dataset and LSTMs\n"
   ]
  },
  {
   "cell_type": "markdown",
   "metadata": {
    "id": "P0qPZcYFVliI"
   },
   "source": [
    "## Importing the libraries\n",
    "* Tensorflow for Deep Learning\n",
    "* Pandas and Numpy for handling data\n",
    "* Matplotlib and Seaborn for plotting data\n",
    "* Nltk to preprocess data\n",
    "* Time and Tqdm for progress bar on lenghty functions."
   ]
  },
  {
   "cell_type": "code",
   "execution_count": 2,
   "metadata": {
    "id": "McGwLuBqbNoc"
   },
   "outputs": [],
   "source": [
    "import tensorflow as tf\n",
    "from tensorflow import keras\n",
    "from tensorflow.keras import layers\n",
    "\n",
    "import pandas as pd\n",
    "import numpy as np\n",
    "import matplotlib.pyplot as plt\n",
    "import seaborn as sns\n",
    "\n",
    "import nltk\n",
    "\n",
    "import time\n",
    "from tqdm.notebook import tqdm\n",
    "\n",
    "sns.set()"
   ]
  },
  {
   "cell_type": "markdown",
   "metadata": {
    "id": "7SbcTlLKZj6P"
   },
   "source": [
    "## Importing the Dataset"
   ]
  },
  {
   "cell_type": "code",
   "execution_count": 3,
   "metadata": {
    "id": "B-SjIbtxb60w"
   },
   "outputs": [],
   "source": [
    "# Reading the Train CSV file\n",
    "\n",
    "raw_data = pd.read_csv(\"/content/drive/MyDrive/TSA/train.csv\" , header = None , encoding = 'latin')\n",
    "\n",
    "# Dropping a few useless columns\n",
    "\n",
    "raw_data.columns = ['Y', 'A', 'B', 'C', 'D', 'X']\n",
    "raw_data = raw_data.drop(['A', 'B', 'C', 'D'], axis=1)\n",
    "\n",
    "# Mapping Positive (4) to 1 and Negative (0) to 0\n",
    "\n",
    "raw_data['Y'] = raw_data['Y'].map({4 : 1 , 0 : 0})\n",
    "raw_data['Y'].value_counts()\n",
    "\n",
    "# Shuffling the data\n",
    "\n",
    "raw_data = raw_data.sample(frac=1).reset_index(drop=True)"
   ]
  },
  {
   "cell_type": "markdown",
   "metadata": {
    "id": "xlDrSZ-jX82K"
   },
   "source": [
    "## Preprocessing Stage"
   ]
  },
  {
   "cell_type": "code",
   "execution_count": 4,
   "metadata": {
    "id": "Zm6-as2JmUIp"
   },
   "outputs": [],
   "source": [
    "# Declaring the function\n",
    "\n",
    "import re\n",
    "\n",
    "def process_text(text):\n",
    "\n",
    "    # Lowercasing\n",
    "    text = text.lower()\n",
    "\n",
    "    # Replacing all the urls\n",
    "    text = re.sub('(?i)\\\\b((?:https?://|www\\\\d{0,3}[.]|[a-z0-9.\\\\-]+[.][a-z]{2,4}/)(?:[^\\\\s()<>]+|\\\\(([^\\\\s()<>]+|(\\\\([^\\\\s()<>]+\\\\)))*\\\\))+(?:\\\\(([^\\\\s()<>]+|(\\\\([^\\\\s()<>]+\\\\)))*\\\\)|[^\\\\s`!()\\\\[\\\\]{};:\\'\\\\\".,<>?\\xc2\\xab\\xc2\\xbb\\xe2\\x80\\x9c\\xe2\\x80\\x9d\\xe2\\x80\\x98\\xe2\\x80\\x99]))'\n",
    "               , '', text)\n",
    "\n",
    "    # Replacing all user tags\n",
    "    text = re.sub(r\"@[^\\s]+\", '', text)\n",
    "\n",
    "    # Replacing all hashtags\n",
    "    text = re.sub(r\"#[^\\s]+\", '', text)\n",
    "\n",
    "    # Remove some punctuations\n",
    "    text = re.sub(r\"[!?,'\\\"*)@#%(&$_.^-]\", '', text)\n",
    "\n",
    "    # Splitting on spaces\n",
    "    text = text.split(' ')\n",
    "\n",
    "    # Stemming and removing spaces\n",
    "    stemmer_ps = nltk.stem.PorterStemmer()  \n",
    "    text = [stemmer_ps.stem(word) for word in text if len(word)]\n",
    "\n",
    "    return text"
   ]
  },
  {
   "cell_type": "code",
   "execution_count": 5,
   "metadata": {
    "colab": {
     "base_uri": "https://localhost:8080/"
    },
    "id": "dFzr9eXMoxsz",
    "outputId": "f2095c7d-ff29-4807-8172-e4d6152d5c39"
   },
   "outputs": [
    {
     "name": "stdout",
     "output_type": "stream",
     "text": [
      "439.7234208583832\n"
     ]
    }
   ],
   "source": [
    "# Modifying the data on the entire dataset\n",
    "# This part takes about 7 mins\n",
    "\n",
    "start = time.time()\n",
    "\n",
    "raw_data['X'] = raw_data['X'].map(process_text)\n",
    "\n",
    "end = time.time()\n",
    "print(end - start)"
   ]
  },
  {
   "cell_type": "code",
   "execution_count": 6,
   "metadata": {
    "colab": {
     "base_uri": "https://localhost:8080/"
    },
    "id": "S-niOQQQ-NHL",
    "outputId": "af2ff027-498d-4993-fb64-ccced8c3199f"
   },
   "outputs": [
    {
     "data": {
      "text/plain": [
       "50"
      ]
     },
     "execution_count": 6,
     "metadata": {},
     "output_type": "execute_result"
    }
   ],
   "source": [
    "# Train Test Val Split\n",
    "\n",
    "from sklearn.model_selection import train_test_split\n",
    "\n",
    "Train, Test = train_test_split(raw_data , stratify = raw_data[\"Y\"], test_size=0.02)\n",
    "Test, Val = train_test_split(Test , stratify = Test[\"Y\"], test_size=0.5)\n",
    "\n",
    "Train = Train.to_numpy()\n",
    "Test = Test.to_numpy()\n",
    "Val = Val.to_numpy()\n",
    "\n",
    "del raw_data\n",
    "import gc\n",
    "gc.collect()"
   ]
  },
  {
   "cell_type": "code",
   "execution_count": 7,
   "metadata": {
    "colab": {
     "base_uri": "https://localhost:8080/"
    },
    "id": "o-SiL86W9g64",
    "outputId": "5c1b369a-35f4-4ad8-915e-b7ef0c47dc67"
   },
   "outputs": [
    {
     "name": "stdout",
     "output_type": "stream",
     "text": [
      "7.882624626159668\n"
     ]
    }
   ],
   "source": [
    "# Creating the word frequency dictionary to remove very rare words.\n",
    "\n",
    "wordfreq = {}\n",
    "\n",
    "start = time.time()\n",
    "\n",
    "for _ , text in Train:\n",
    "    for w in text:\n",
    "        if w not in wordfreq:\n",
    "            wordfreq[w] = 1\n",
    "    else:\n",
    "        wordfreq[w] += 1\n",
    "\n",
    "end = time.time()\n",
    "print(end - start)"
   ]
  },
  {
   "cell_type": "code",
   "execution_count": 8,
   "metadata": {
    "colab": {
     "base_uri": "https://localhost:8080/"
    },
    "id": "cn9IV3pS92nM",
    "outputId": "a90aaed1-7310-4531-edda-113d6b32c190"
   },
   "outputs": [
    {
     "name": "stdout",
     "output_type": "stream",
     "text": [
      "398000 2774 99.30783933089472 0.6921606691052813\n"
     ]
    }
   ],
   "source": [
    "# Getting words that have occured more than 50 times in tweets\n",
    "\n",
    "words = [word for word in wordfreq if wordfreq[word] <= 50]\n",
    "low_words = len(words)\n",
    "total_words = len(wordfreq)\n",
    "print(low_words , total_words - low_words , (low_words / total_words * 100) , ((total_words - low_words) / total_words * 100))"
   ]
  },
  {
   "cell_type": "code",
   "execution_count": 9,
   "metadata": {
    "id": "stZd3luLgp5H"
   },
   "outputs": [],
   "source": [
    "# Removing the low occurence words from the wordfreq dictionaries\n",
    "\n",
    "for word in words:\n",
    "    if word in wordfreq: \n",
    "        del wordfreq[word]"
   ]
  },
  {
   "cell_type": "code",
   "execution_count": 10,
   "metadata": {
    "colab": {
     "base_uri": "https://localhost:8080/"
    },
    "id": "hcSyTsa1hGZj",
    "outputId": "eec3042d-9daf-40ef-d31e-f6ed2a0b37ff"
   },
   "outputs": [
    {
     "name": "stdout",
     "output_type": "stream",
     "text": [
      "7.177308797836304\n"
     ]
    }
   ],
   "source": [
    "# Removing the low occurence words from the tweets\n",
    "# And converting them to numbers\n",
    "\n",
    "start = time.time()\n",
    "\n",
    "for i in range(len(Train)):\n",
    "    Train[i][1] = [ word for word in Train[i][1] if word in wordfreq]\n",
    "\n",
    "end = time.time()\n",
    "print(end - start)"
   ]
  },
  {
   "cell_type": "code",
   "execution_count": 11,
   "metadata": {
    "colab": {
     "base_uri": "https://localhost:8080/"
    },
    "id": "2EB_oZbQhwZf",
    "outputId": "f631db7a-9487-49c6-bcc2-3e20c9de1694"
   },
   "outputs": [
    {
     "name": "stdout",
     "output_type": "stream",
     "text": [
      "6.040719747543335\n"
     ]
    }
   ],
   "source": [
    "# Creating the word to number dictionary for the embedding layer\n",
    "\n",
    "word2idx = {}\n",
    "\n",
    "start = time.time()\n",
    "\n",
    "for _ , text in Train:\n",
    "    for w in text:\n",
    "        if w not in word2idx:\n",
    "            word2idx[w] = (len(word2idx) + 1)\n",
    "\n",
    "end = time.time()\n",
    "print(end - start)"
   ]
  },
  {
   "cell_type": "markdown",
   "metadata": {
    "id": "-aHtlQxYxlBO"
   },
   "source": [
    "### Preprocessing the Training Split"
   ]
  },
  {
   "cell_type": "code",
   "execution_count": 12,
   "metadata": {
    "colab": {
     "base_uri": "https://localhost:8080/"
    },
    "id": "ozdpY0m7iAF7",
    "outputId": "6b89f9b0-83db-4383-ea01-7623a148744d"
   },
   "outputs": [
    {
     "name": "stdout",
     "output_type": "stream",
     "text": [
      "7.870055198669434\n"
     ]
    }
   ],
   "source": [
    "# Converting the tweet's words to numbers\n",
    "\n",
    "start = time.time()\n",
    "\n",
    "for i in range(len(Train)):\n",
    "    Train[i][1] = [ word2idx[word] for word in Train[i][1] if word in word2idx]\n",
    "\n",
    "end = time.time()\n",
    "print(end - start)"
   ]
  },
  {
   "cell_type": "code",
   "execution_count": 13,
   "metadata": {
    "id": "TelxSgbBv_zn"
   },
   "outputs": [],
   "source": [
    "# Creating the feature variable and padding them\n",
    "X = tf.keras.preprocessing.sequence.pad_sequences(Train[ : , 1] , padding = 'post')\n",
    "\n",
    "\n",
    "# Creating the target variable\n",
    "Y = Train[ : , 0]\n",
    "\n",
    "MAX_LEN = len(X[0])"
   ]
  },
  {
   "cell_type": "markdown",
   "metadata": {
    "id": "0PRZlRqhxehk"
   },
   "source": [
    "### Preprocessing the Validation Split"
   ]
  },
  {
   "cell_type": "code",
   "execution_count": 14,
   "metadata": {
    "id": "hM6wGvDKi4I4"
   },
   "outputs": [],
   "source": [
    "# Preprocessing the Validation Split\n",
    "\n",
    "for i in range(len(Val)):\n",
    "    Val[i][1] = data = [ word2idx[word] for word in Val[i][1] if word in word2idx]\n",
    "\n",
    "X_val = tf.keras.preprocessing.sequence.pad_sequences(Val[ : , 1] , padding = 'post' , maxlen = MAX_LEN)\n",
    "Y_val = Val[ : , 0]"
   ]
  },
  {
   "cell_type": "markdown",
   "metadata": {
    "id": "U8ayCmG18Scl"
   },
   "source": [
    "## Training the model"
   ]
  },
  {
   "cell_type": "code",
   "execution_count": 15,
   "metadata": {
    "colab": {
     "base_uri": "https://localhost:8080/"
    },
    "id": "kJx_Aaa7cavF",
    "outputId": "fe790019-ac65-425b-83ce-6f1103beb7e4"
   },
   "outputs": [
    {
     "name": "stdout",
     "output_type": "stream",
     "text": [
      "Model: \"sequential\"\n",
      "_________________________________________________________________\n",
      "Layer (type)                 Output Shape              Param #   \n",
      "=================================================================\n",
      "embedding (Embedding)        (None, 40, 5)             7840005   \n",
      "_________________________________________________________________\n",
      "lstm (LSTM)                  (None, 64)                17920     \n",
      "_________________________________________________________________\n",
      "dense (Dense)                (None, 64)                4160      \n",
      "_________________________________________________________________\n",
      "dropout (Dropout)            (None, 64)                0         \n",
      "_________________________________________________________________\n",
      "dense_1 (Dense)              (None, 32)                2080      \n",
      "_________________________________________________________________\n",
      "dense_2 (Dense)              (None, 1)                 33        \n",
      "=================================================================\n",
      "Total params: 7,864,198\n",
      "Trainable params: 7,864,198\n",
      "Non-trainable params: 0\n",
      "_________________________________________________________________\n"
     ]
    }
   ],
   "source": [
    "INPUT_DIM = len(X)\n",
    "OUTPUT_DIM = 5\n",
    "INPUT_LEN = len(X[0])\n",
    "BATCH_SIZE = 10240\n",
    "\n",
    "model = keras.Sequential()\n",
    "\n",
    "model.add(layers.Embedding(input_dim=INPUT_DIM + 1 , output_dim=OUTPUT_DIM , input_length=INPUT_LEN ))\n",
    "model.add(layers.LSTM(64))\n",
    "model.add(layers.Dense(64 , activation = 'relu'))\n",
    "model.add(layers.Dropout(0.4))\n",
    "model.add(layers.Dense(32 , activation = 'relu'))\n",
    "model.add(layers.Dense(1, activation = 'sigmoid'))\n",
    "\n",
    "model.summary()"
   ]
  },
  {
   "cell_type": "code",
   "execution_count": 16,
   "metadata": {
    "colab": {
     "base_uri": "https://localhost:8080/"
    },
    "id": "RGFLjdTjxIfl",
    "outputId": "221503a8-1ecc-4687-fd28-c2a729e9edd6"
   },
   "outputs": [
    {
     "name": "stdout",
     "output_type": "stream",
     "text": [
      "Epoch 1/200\n",
      "154/154 [==============================] - 24s 114ms/step - loss: 0.5902 - accuracy: 0.6493 - val_loss: 0.4711 - val_accuracy: 0.7816\n",
      "Epoch 2/200\n",
      "154/154 [==============================] - 17s 110ms/step - loss: 0.4690 - accuracy: 0.7830 - val_loss: 0.4641 - val_accuracy: 0.7847\n",
      "Epoch 3/200\n",
      "154/154 [==============================] - 17s 109ms/step - loss: 0.4619 - accuracy: 0.7846 - val_loss: 0.4558 - val_accuracy: 0.7877\n",
      "Epoch 4/200\n",
      "154/154 [==============================] - 17s 109ms/step - loss: 0.4567 - accuracy: 0.7859 - val_loss: 0.4501 - val_accuracy: 0.7887\n",
      "Epoch 5/200\n",
      "154/154 [==============================] - 17s 109ms/step - loss: 0.4524 - accuracy: 0.7870 - val_loss: 0.4484 - val_accuracy: 0.7896\n",
      "Epoch 6/200\n",
      "154/154 [==============================] - 17s 109ms/step - loss: 0.4503 - accuracy: 0.7877 - val_loss: 0.4475 - val_accuracy: 0.7891\n",
      "Epoch 7/200\n",
      "154/154 [==============================] - 17s 109ms/step - loss: 0.4475 - accuracy: 0.7892 - val_loss: 0.4554 - val_accuracy: 0.7890\n",
      "Epoch 8/200\n",
      "154/154 [==============================] - 17s 108ms/step - loss: 0.4470 - accuracy: 0.7898 - val_loss: 0.4489 - val_accuracy: 0.7913\n",
      "Epoch 9/200\n",
      "154/154 [==============================] - 17s 109ms/step - loss: 0.4453 - accuracy: 0.7906 - val_loss: 0.4433 - val_accuracy: 0.7925\n",
      "Epoch 10/200\n",
      "154/154 [==============================] - 17s 109ms/step - loss: 0.4445 - accuracy: 0.7913 - val_loss: 0.4487 - val_accuracy: 0.7929\n",
      "Epoch 11/200\n",
      "154/154 [==============================] - 17s 109ms/step - loss: 0.4428 - accuracy: 0.7921 - val_loss: 0.4501 - val_accuracy: 0.7957\n",
      "Epoch 12/200\n",
      "154/154 [==============================] - 17s 109ms/step - loss: 0.4422 - accuracy: 0.7930 - val_loss: 0.4488 - val_accuracy: 0.7924\n",
      "Epoch 13/200\n",
      "154/154 [==============================] - 17s 109ms/step - loss: 0.4398 - accuracy: 0.7942 - val_loss: 0.4403 - val_accuracy: 0.7952\n",
      "Epoch 14/200\n",
      "154/154 [==============================] - 17s 109ms/step - loss: 0.4381 - accuracy: 0.7955 - val_loss: 0.4389 - val_accuracy: 0.7957\n",
      "Epoch 15/200\n",
      "154/154 [==============================] - 17s 109ms/step - loss: 0.4356 - accuracy: 0.7969 - val_loss: 0.4414 - val_accuracy: 0.7983\n",
      "Epoch 16/200\n",
      "154/154 [==============================] - 17s 109ms/step - loss: 0.4338 - accuracy: 0.7980 - val_loss: 0.4379 - val_accuracy: 0.7996\n",
      "Epoch 17/200\n",
      "154/154 [==============================] - 17s 109ms/step - loss: 0.4314 - accuracy: 0.7995 - val_loss: 0.4487 - val_accuracy: 0.7905\n",
      "Epoch 18/200\n",
      "154/154 [==============================] - 17s 109ms/step - loss: 0.4296 - accuracy: 0.8004 - val_loss: 0.4568 - val_accuracy: 0.7861\n",
      "Epoch 19/200\n",
      "154/154 [==============================] - 17s 109ms/step - loss: 0.4283 - accuracy: 0.8012 - val_loss: 0.4370 - val_accuracy: 0.8033\n",
      "Epoch 20/200\n",
      "154/154 [==============================] - 17s 109ms/step - loss: 0.4271 - accuracy: 0.8019 - val_loss: 0.4408 - val_accuracy: 0.8023\n",
      "Epoch 21/200\n",
      "154/154 [==============================] - 17s 109ms/step - loss: 0.4257 - accuracy: 0.8026 - val_loss: 0.4317 - val_accuracy: 0.8050\n",
      "Epoch 22/200\n",
      "154/154 [==============================] - 17s 109ms/step - loss: 0.4243 - accuracy: 0.8032 - val_loss: 0.4274 - val_accuracy: 0.8067\n",
      "Epoch 23/200\n",
      "154/154 [==============================] - 17s 109ms/step - loss: 0.4231 - accuracy: 0.8040 - val_loss: 0.4297 - val_accuracy: 0.8042\n",
      "Epoch 24/200\n",
      "154/154 [==============================] - 17s 109ms/step - loss: 0.4224 - accuracy: 0.8045 - val_loss: 0.4336 - val_accuracy: 0.8043\n",
      "Epoch 25/200\n",
      "154/154 [==============================] - 17s 109ms/step - loss: 0.4216 - accuracy: 0.8050 - val_loss: 0.4318 - val_accuracy: 0.8066\n",
      "Epoch 26/200\n",
      "154/154 [==============================] - 17s 109ms/step - loss: 0.4208 - accuracy: 0.8052 - val_loss: 0.4322 - val_accuracy: 0.8056\n",
      "Epoch 27/200\n",
      "154/154 [==============================] - 17s 109ms/step - loss: 0.4195 - accuracy: 0.8062 - val_loss: 0.4306 - val_accuracy: 0.8072\n",
      "Epoch 28/200\n",
      "154/154 [==============================] - 17s 109ms/step - loss: 0.4189 - accuracy: 0.8064 - val_loss: 0.4361 - val_accuracy: 0.8041\n",
      "Epoch 29/200\n",
      "154/154 [==============================] - 17s 109ms/step - loss: 0.4183 - accuracy: 0.8066 - val_loss: 0.4316 - val_accuracy: 0.8061\n",
      "Epoch 30/200\n",
      "154/154 [==============================] - 17s 109ms/step - loss: 0.4179 - accuracy: 0.8069 - val_loss: 0.4303 - val_accuracy: 0.8086\n",
      "Epoch 31/200\n",
      "154/154 [==============================] - 17s 109ms/step - loss: 0.4170 - accuracy: 0.8075 - val_loss: 0.4318 - val_accuracy: 0.8081\n",
      "Epoch 32/200\n",
      "154/154 [==============================] - 17s 109ms/step - loss: 0.4170 - accuracy: 0.8074 - val_loss: 0.4337 - val_accuracy: 0.8074\n",
      "Epoch 33/200\n",
      "154/154 [==============================] - 17s 109ms/step - loss: 0.4166 - accuracy: 0.8076 - val_loss: 0.4304 - val_accuracy: 0.8098\n",
      "Epoch 34/200\n",
      "154/154 [==============================] - 17s 109ms/step - loss: 0.4161 - accuracy: 0.8079 - val_loss: 0.4285 - val_accuracy: 0.8090\n",
      "Epoch 35/200\n",
      "154/154 [==============================] - 17s 109ms/step - loss: 0.4160 - accuracy: 0.8080 - val_loss: 0.4332 - val_accuracy: 0.8091\n",
      "Epoch 36/200\n",
      "154/154 [==============================] - 17s 109ms/step - loss: 0.4154 - accuracy: 0.8083 - val_loss: 0.4275 - val_accuracy: 0.8092\n",
      "Epoch 37/200\n",
      "154/154 [==============================] - 17s 108ms/step - loss: 0.4155 - accuracy: 0.8082 - val_loss: 0.4276 - val_accuracy: 0.8093\n",
      "Epoch 38/200\n",
      "154/154 [==============================] - 17s 109ms/step - loss: 0.4148 - accuracy: 0.8086 - val_loss: 0.4439 - val_accuracy: 0.7974\n",
      "Epoch 39/200\n",
      "154/154 [==============================] - 17s 109ms/step - loss: 0.4150 - accuracy: 0.8085 - val_loss: 0.4339 - val_accuracy: 0.8069\n",
      "Epoch 40/200\n",
      "154/154 [==============================] - 17s 109ms/step - loss: 0.4149 - accuracy: 0.8084 - val_loss: 0.4294 - val_accuracy: 0.8088\n",
      "Epoch 41/200\n",
      "154/154 [==============================] - 17s 109ms/step - loss: 0.4142 - accuracy: 0.8089 - val_loss: 0.4253 - val_accuracy: 0.8101\n",
      "Epoch 42/200\n",
      "154/154 [==============================] - 17s 109ms/step - loss: 0.4143 - accuracy: 0.8088 - val_loss: 0.4333 - val_accuracy: 0.8061\n",
      "Epoch 43/200\n",
      "154/154 [==============================] - 17s 109ms/step - loss: 0.4138 - accuracy: 0.8090 - val_loss: 0.4319 - val_accuracy: 0.8081\n",
      "Epoch 44/200\n",
      "154/154 [==============================] - 17s 109ms/step - loss: 0.4139 - accuracy: 0.8091 - val_loss: 0.4303 - val_accuracy: 0.8065\n",
      "Epoch 45/200\n",
      "154/154 [==============================] - 17s 109ms/step - loss: 0.4137 - accuracy: 0.8093 - val_loss: 0.4336 - val_accuracy: 0.8086\n",
      "Epoch 46/200\n",
      "154/154 [==============================] - 17s 109ms/step - loss: 0.4132 - accuracy: 0.8093 - val_loss: 0.4347 - val_accuracy: 0.8080\n",
      "Epoch 47/200\n",
      "154/154 [==============================] - 17s 109ms/step - loss: 0.4131 - accuracy: 0.8096 - val_loss: 0.4337 - val_accuracy: 0.8063\n",
      "Epoch 48/200\n",
      "154/154 [==============================] - 17s 109ms/step - loss: 0.4132 - accuracy: 0.8095 - val_loss: 0.4290 - val_accuracy: 0.8081\n",
      "Epoch 49/200\n",
      "154/154 [==============================] - 17s 109ms/step - loss: 0.4129 - accuracy: 0.8096 - val_loss: 0.4248 - val_accuracy: 0.8082\n",
      "Epoch 50/200\n",
      "154/154 [==============================] - 17s 109ms/step - loss: 0.4127 - accuracy: 0.8097 - val_loss: 0.4324 - val_accuracy: 0.8083\n",
      "Epoch 51/200\n",
      "154/154 [==============================] - 17s 109ms/step - loss: 0.4124 - accuracy: 0.8098 - val_loss: 0.4397 - val_accuracy: 0.8073\n",
      "Epoch 52/200\n",
      "154/154 [==============================] - 17s 109ms/step - loss: 0.4127 - accuracy: 0.8098 - val_loss: 0.4437 - val_accuracy: 0.8035\n",
      "Epoch 53/200\n",
      "154/154 [==============================] - 17s 109ms/step - loss: 0.4126 - accuracy: 0.8099 - val_loss: 0.4354 - val_accuracy: 0.8080\n",
      "Epoch 54/200\n",
      "154/154 [==============================] - 17s 109ms/step - loss: 0.4125 - accuracy: 0.8099 - val_loss: 0.4334 - val_accuracy: 0.8091\n",
      "Epoch 55/200\n",
      "154/154 [==============================] - 17s 109ms/step - loss: 0.4118 - accuracy: 0.8101 - val_loss: 0.4300 - val_accuracy: 0.8077\n",
      "Epoch 56/200\n",
      "154/154 [==============================] - 17s 109ms/step - loss: 0.4119 - accuracy: 0.8102 - val_loss: 0.4340 - val_accuracy: 0.8097\n",
      "Epoch 57/200\n",
      "154/154 [==============================] - 17s 109ms/step - loss: 0.4116 - accuracy: 0.8104 - val_loss: 0.4297 - val_accuracy: 0.8081\n",
      "Epoch 58/200\n",
      "154/154 [==============================] - 17s 109ms/step - loss: 0.4115 - accuracy: 0.8105 - val_loss: 0.4428 - val_accuracy: 0.7997\n",
      "Epoch 59/200\n",
      "154/154 [==============================] - 17s 109ms/step - loss: 0.4116 - accuracy: 0.8104 - val_loss: 0.4278 - val_accuracy: 0.8100\n",
      "Epoch 60/200\n",
      "154/154 [==============================] - 17s 109ms/step - loss: 0.4111 - accuracy: 0.8107 - val_loss: 0.4248 - val_accuracy: 0.8102\n",
      "Epoch 61/200\n",
      "154/154 [==============================] - 17s 109ms/step - loss: 0.4113 - accuracy: 0.8106 - val_loss: 0.4355 - val_accuracy: 0.8062\n",
      "Epoch 62/200\n",
      "154/154 [==============================] - 17s 109ms/step - loss: 0.4110 - accuracy: 0.8109 - val_loss: 0.4345 - val_accuracy: 0.8071\n",
      "Epoch 63/200\n",
      "154/154 [==============================] - 17s 109ms/step - loss: 0.4107 - accuracy: 0.8109 - val_loss: 0.4413 - val_accuracy: 0.8088\n",
      "Epoch 64/200\n",
      "154/154 [==============================] - 17s 109ms/step - loss: 0.4107 - accuracy: 0.8108 - val_loss: 0.4305 - val_accuracy: 0.8093\n",
      "Epoch 65/200\n",
      "154/154 [==============================] - 17s 109ms/step - loss: 0.4105 - accuracy: 0.8111 - val_loss: 0.4259 - val_accuracy: 0.8079\n",
      "Epoch 66/200\n",
      "154/154 [==============================] - 17s 109ms/step - loss: 0.4104 - accuracy: 0.8113 - val_loss: 0.4359 - val_accuracy: 0.8067\n",
      "Epoch 67/200\n",
      "154/154 [==============================] - 17s 109ms/step - loss: 0.4104 - accuracy: 0.8113 - val_loss: 0.4268 - val_accuracy: 0.8113\n",
      "Epoch 68/200\n",
      "154/154 [==============================] - 17s 109ms/step - loss: 0.4101 - accuracy: 0.8113 - val_loss: 0.4283 - val_accuracy: 0.8095\n",
      "Epoch 69/200\n",
      "154/154 [==============================] - 17s 109ms/step - loss: 0.4100 - accuracy: 0.8114 - val_loss: 0.4368 - val_accuracy: 0.8044\n",
      "Epoch 70/200\n",
      "154/154 [==============================] - 17s 109ms/step - loss: 0.4098 - accuracy: 0.8116 - val_loss: 0.4254 - val_accuracy: 0.8114\n",
      "Epoch 71/200\n",
      "154/154 [==============================] - 17s 109ms/step - loss: 0.4099 - accuracy: 0.8115 - val_loss: 0.4318 - val_accuracy: 0.8069\n",
      "Epoch 72/200\n",
      "154/154 [==============================] - 17s 108ms/step - loss: 0.4097 - accuracy: 0.8116 - val_loss: 0.4268 - val_accuracy: 0.8104\n",
      "Epoch 73/200\n",
      "154/154 [==============================] - 17s 109ms/step - loss: 0.4093 - accuracy: 0.8118 - val_loss: 0.4282 - val_accuracy: 0.8117\n",
      "Epoch 74/200\n",
      "154/154 [==============================] - 17s 109ms/step - loss: 0.4094 - accuracy: 0.8116 - val_loss: 0.4249 - val_accuracy: 0.8092\n",
      "Epoch 75/200\n",
      "154/154 [==============================] - 17s 109ms/step - loss: 0.4093 - accuracy: 0.8118 - val_loss: 0.4300 - val_accuracy: 0.8096\n",
      "Epoch 76/200\n",
      "154/154 [==============================] - 17s 109ms/step - loss: 0.4092 - accuracy: 0.8119 - val_loss: 0.4300 - val_accuracy: 0.8107\n",
      "Epoch 77/200\n",
      "154/154 [==============================] - 17s 109ms/step - loss: 0.4092 - accuracy: 0.8120 - val_loss: 0.4323 - val_accuracy: 0.8100\n",
      "Epoch 78/200\n",
      "154/154 [==============================] - 17s 109ms/step - loss: 0.4090 - accuracy: 0.8121 - val_loss: 0.4285 - val_accuracy: 0.8071\n",
      "Epoch 79/200\n",
      "154/154 [==============================] - 17s 109ms/step - loss: 0.4088 - accuracy: 0.8122 - val_loss: 0.4277 - val_accuracy: 0.8120\n",
      "Epoch 80/200\n",
      "154/154 [==============================] - 17s 109ms/step - loss: 0.4086 - accuracy: 0.8122 - val_loss: 0.4368 - val_accuracy: 0.8056\n",
      "Epoch 81/200\n",
      "154/154 [==============================] - 17s 109ms/step - loss: 0.4087 - accuracy: 0.8122 - val_loss: 0.4304 - val_accuracy: 0.8120\n",
      "Epoch 82/200\n",
      "154/154 [==============================] - 17s 109ms/step - loss: 0.4087 - accuracy: 0.8122 - val_loss: 0.4376 - val_accuracy: 0.8035\n",
      "Epoch 83/200\n",
      "154/154 [==============================] - 17s 109ms/step - loss: 0.4085 - accuracy: 0.8122 - val_loss: 0.4270 - val_accuracy: 0.8121\n",
      "Epoch 84/200\n",
      "154/154 [==============================] - 17s 109ms/step - loss: 0.4082 - accuracy: 0.8126 - val_loss: 0.4305 - val_accuracy: 0.8102\n",
      "Epoch 85/200\n",
      "154/154 [==============================] - 17s 109ms/step - loss: 0.4079 - accuracy: 0.8126 - val_loss: 0.4345 - val_accuracy: 0.8114\n",
      "Epoch 86/200\n",
      "154/154 [==============================] - 17s 109ms/step - loss: 0.4080 - accuracy: 0.8125 - val_loss: 0.4328 - val_accuracy: 0.8074\n",
      "Epoch 87/200\n",
      "154/154 [==============================] - 17s 109ms/step - loss: 0.4081 - accuracy: 0.8127 - val_loss: 0.4280 - val_accuracy: 0.8085\n",
      "Epoch 88/200\n",
      "154/154 [==============================] - 17s 109ms/step - loss: 0.4080 - accuracy: 0.8126 - val_loss: 0.4230 - val_accuracy: 0.8111\n",
      "Epoch 89/200\n",
      "154/154 [==============================] - 17s 109ms/step - loss: 0.4077 - accuracy: 0.8127 - val_loss: 0.4291 - val_accuracy: 0.8089\n",
      "Epoch 90/200\n",
      "154/154 [==============================] - 17s 109ms/step - loss: 0.4078 - accuracy: 0.8128 - val_loss: 0.4301 - val_accuracy: 0.8099\n",
      "Epoch 91/200\n",
      "154/154 [==============================] - 17s 109ms/step - loss: 0.4075 - accuracy: 0.8129 - val_loss: 0.4283 - val_accuracy: 0.8084\n",
      "Epoch 92/200\n",
      "154/154 [==============================] - 17s 109ms/step - loss: 0.4075 - accuracy: 0.8129 - val_loss: 0.4331 - val_accuracy: 0.8103\n",
      "Epoch 93/200\n",
      "154/154 [==============================] - 17s 109ms/step - loss: 0.4074 - accuracy: 0.8128 - val_loss: 0.4277 - val_accuracy: 0.8098\n",
      "Epoch 94/200\n",
      "154/154 [==============================] - 17s 108ms/step - loss: 0.4072 - accuracy: 0.8130 - val_loss: 0.4267 - val_accuracy: 0.8112\n",
      "Epoch 95/200\n",
      "154/154 [==============================] - 17s 109ms/step - loss: 0.4071 - accuracy: 0.8130 - val_loss: 0.4289 - val_accuracy: 0.8104\n",
      "Epoch 96/200\n",
      "154/154 [==============================] - 17s 109ms/step - loss: 0.4071 - accuracy: 0.8131 - val_loss: 0.4284 - val_accuracy: 0.8096\n",
      "Epoch 97/200\n",
      "154/154 [==============================] - 17s 109ms/step - loss: 0.4068 - accuracy: 0.8129 - val_loss: 0.4288 - val_accuracy: 0.8111\n",
      "Epoch 98/200\n",
      "154/154 [==============================] - 17s 109ms/step - loss: 0.4069 - accuracy: 0.8131 - val_loss: 0.4336 - val_accuracy: 0.8093\n",
      "Epoch 99/200\n",
      "154/154 [==============================] - 17s 109ms/step - loss: 0.4070 - accuracy: 0.8132 - val_loss: 0.4330 - val_accuracy: 0.8073\n",
      "Epoch 100/200\n",
      "154/154 [==============================] - 17s 109ms/step - loss: 0.4071 - accuracy: 0.8132 - val_loss: 0.4263 - val_accuracy: 0.8120\n",
      "Epoch 101/200\n",
      "154/154 [==============================] - 17s 109ms/step - loss: 0.4065 - accuracy: 0.8134 - val_loss: 0.4274 - val_accuracy: 0.8067\n",
      "Epoch 102/200\n",
      "154/154 [==============================] - 17s 109ms/step - loss: 0.4065 - accuracy: 0.8135 - val_loss: 0.4240 - val_accuracy: 0.8117\n",
      "Epoch 103/200\n",
      "154/154 [==============================] - 17s 109ms/step - loss: 0.4063 - accuracy: 0.8134 - val_loss: 0.4310 - val_accuracy: 0.8109\n",
      "Epoch 104/200\n",
      "154/154 [==============================] - 17s 109ms/step - loss: 0.4064 - accuracy: 0.8135 - val_loss: 0.4301 - val_accuracy: 0.8061\n",
      "Epoch 105/200\n",
      "154/154 [==============================] - 17s 109ms/step - loss: 0.4061 - accuracy: 0.8136 - val_loss: 0.4232 - val_accuracy: 0.8099\n",
      "Epoch 106/200\n",
      "154/154 [==============================] - 17s 109ms/step - loss: 0.4061 - accuracy: 0.8137 - val_loss: 0.4242 - val_accuracy: 0.8112\n",
      "Epoch 107/200\n",
      "154/154 [==============================] - 17s 109ms/step - loss: 0.4060 - accuracy: 0.8138 - val_loss: 0.4280 - val_accuracy: 0.8104\n",
      "Epoch 108/200\n",
      "154/154 [==============================] - 17s 109ms/step - loss: 0.4059 - accuracy: 0.8136 - val_loss: 0.4268 - val_accuracy: 0.8097\n",
      "Epoch 109/200\n",
      "154/154 [==============================] - 17s 109ms/step - loss: 0.4059 - accuracy: 0.8136 - val_loss: 0.4237 - val_accuracy: 0.8129\n",
      "Epoch 110/200\n",
      "154/154 [==============================] - 17s 109ms/step - loss: 0.4057 - accuracy: 0.8140 - val_loss: 0.4281 - val_accuracy: 0.8086\n",
      "Epoch 111/200\n",
      "154/154 [==============================] - 17s 109ms/step - loss: 0.4057 - accuracy: 0.8139 - val_loss: 0.4274 - val_accuracy: 0.8061\n",
      "Epoch 112/200\n",
      "154/154 [==============================] - 17s 109ms/step - loss: 0.4054 - accuracy: 0.8140 - val_loss: 0.4245 - val_accuracy: 0.8102\n",
      "Epoch 113/200\n",
      "154/154 [==============================] - 17s 109ms/step - loss: 0.4053 - accuracy: 0.8141 - val_loss: 0.4243 - val_accuracy: 0.8117\n",
      "Epoch 114/200\n",
      "154/154 [==============================] - 17s 108ms/step - loss: 0.4052 - accuracy: 0.8142 - val_loss: 0.4270 - val_accuracy: 0.8098\n",
      "Epoch 115/200\n",
      "154/154 [==============================] - 17s 109ms/step - loss: 0.4052 - accuracy: 0.8139 - val_loss: 0.4326 - val_accuracy: 0.8059\n",
      "Epoch 116/200\n",
      "154/154 [==============================] - 17s 109ms/step - loss: 0.4053 - accuracy: 0.8142 - val_loss: 0.4275 - val_accuracy: 0.8087\n",
      "Epoch 117/200\n",
      "154/154 [==============================] - 17s 108ms/step - loss: 0.4048 - accuracy: 0.8143 - val_loss: 0.4287 - val_accuracy: 0.8087\n",
      "Epoch 118/200\n",
      "154/154 [==============================] - 17s 109ms/step - loss: 0.4049 - accuracy: 0.8142 - val_loss: 0.4303 - val_accuracy: 0.8105\n",
      "Epoch 119/200\n",
      "154/154 [==============================] - 17s 108ms/step - loss: 0.4048 - accuracy: 0.8143 - val_loss: 0.4239 - val_accuracy: 0.8096\n",
      "Epoch 120/200\n",
      "154/154 [==============================] - 17s 109ms/step - loss: 0.4049 - accuracy: 0.8142 - val_loss: 0.4287 - val_accuracy: 0.8082\n",
      "Epoch 121/200\n",
      "154/154 [==============================] - 17s 109ms/step - loss: 0.4044 - accuracy: 0.8144 - val_loss: 0.4287 - val_accuracy: 0.8073\n",
      "Epoch 122/200\n",
      "154/154 [==============================] - 17s 109ms/step - loss: 0.4045 - accuracy: 0.8145 - val_loss: 0.4237 - val_accuracy: 0.8093\n",
      "Epoch 123/200\n",
      "154/154 [==============================] - 17s 109ms/step - loss: 0.4042 - accuracy: 0.8145 - val_loss: 0.4304 - val_accuracy: 0.8101\n",
      "Epoch 124/200\n",
      "154/154 [==============================] - 17s 109ms/step - loss: 0.4041 - accuracy: 0.8147 - val_loss: 0.4274 - val_accuracy: 0.8096\n",
      "Epoch 125/200\n",
      "154/154 [==============================] - 17s 109ms/step - loss: 0.4044 - accuracy: 0.8146 - val_loss: 0.4238 - val_accuracy: 0.8081\n",
      "Epoch 126/200\n",
      "154/154 [==============================] - 17s 109ms/step - loss: 0.4039 - accuracy: 0.8148 - val_loss: 0.4277 - val_accuracy: 0.8073\n",
      "Epoch 127/200\n",
      "154/154 [==============================] - 17s 108ms/step - loss: 0.4039 - accuracy: 0.8148 - val_loss: 0.4267 - val_accuracy: 0.8069\n",
      "Epoch 128/200\n",
      "154/154 [==============================] - 17s 109ms/step - loss: 0.4036 - accuracy: 0.8150 - val_loss: 0.4286 - val_accuracy: 0.8078\n",
      "Epoch 129/200\n",
      "154/154 [==============================] - 17s 109ms/step - loss: 0.4037 - accuracy: 0.8150 - val_loss: 0.4289 - val_accuracy: 0.8082\n",
      "Epoch 130/200\n",
      "154/154 [==============================] - 17s 109ms/step - loss: 0.4038 - accuracy: 0.8149 - val_loss: 0.4267 - val_accuracy: 0.8098\n",
      "Epoch 131/200\n",
      "154/154 [==============================] - 17s 109ms/step - loss: 0.4037 - accuracy: 0.8148 - val_loss: 0.4317 - val_accuracy: 0.8057\n",
      "Epoch 132/200\n",
      "154/154 [==============================] - 17s 109ms/step - loss: 0.4037 - accuracy: 0.8148 - val_loss: 0.4230 - val_accuracy: 0.8094\n",
      "Epoch 133/200\n",
      "154/154 [==============================] - 17s 109ms/step - loss: 0.4035 - accuracy: 0.8151 - val_loss: 0.4300 - val_accuracy: 0.8076\n",
      "Epoch 134/200\n",
      "154/154 [==============================] - 17s 109ms/step - loss: 0.4034 - accuracy: 0.8151 - val_loss: 0.4297 - val_accuracy: 0.8094\n",
      "Epoch 135/200\n",
      "154/154 [==============================] - 17s 109ms/step - loss: 0.4033 - accuracy: 0.8152 - val_loss: 0.4236 - val_accuracy: 0.8089\n",
      "Epoch 136/200\n",
      "154/154 [==============================] - 17s 109ms/step - loss: 0.4030 - accuracy: 0.8152 - val_loss: 0.4282 - val_accuracy: 0.8071\n",
      "Epoch 137/200\n",
      "154/154 [==============================] - 17s 109ms/step - loss: 0.4029 - accuracy: 0.8154 - val_loss: 0.4284 - val_accuracy: 0.8097\n",
      "Epoch 138/200\n",
      "154/154 [==============================] - 17s 109ms/step - loss: 0.4032 - accuracy: 0.8153 - val_loss: 0.4302 - val_accuracy: 0.8015\n",
      "Epoch 139/200\n",
      "154/154 [==============================] - 17s 109ms/step - loss: 0.4028 - accuracy: 0.8155 - val_loss: 0.4307 - val_accuracy: 0.8083\n",
      "Epoch 140/200\n",
      "154/154 [==============================] - 17s 109ms/step - loss: 0.4026 - accuracy: 0.8156 - val_loss: 0.4281 - val_accuracy: 0.8071\n",
      "Epoch 141/200\n",
      "154/154 [==============================] - 17s 109ms/step - loss: 0.4028 - accuracy: 0.8154 - val_loss: 0.4258 - val_accuracy: 0.8094\n",
      "Epoch 142/200\n",
      "154/154 [==============================] - 17s 109ms/step - loss: 0.4025 - accuracy: 0.8156 - val_loss: 0.4280 - val_accuracy: 0.8096\n",
      "Epoch 143/200\n",
      "154/154 [==============================] - 17s 109ms/step - loss: 0.4025 - accuracy: 0.8157 - val_loss: 0.4286 - val_accuracy: 0.8109\n",
      "Epoch 144/200\n",
      "154/154 [==============================] - 17s 109ms/step - loss: 0.4022 - accuracy: 0.8157 - val_loss: 0.4311 - val_accuracy: 0.8086\n",
      "Epoch 145/200\n",
      "154/154 [==============================] - 17s 109ms/step - loss: 0.4022 - accuracy: 0.8157 - val_loss: 0.4255 - val_accuracy: 0.8081\n",
      "Epoch 146/200\n",
      "154/154 [==============================] - 17s 109ms/step - loss: 0.4021 - accuracy: 0.8159 - val_loss: 0.4290 - val_accuracy: 0.8083\n",
      "Epoch 147/200\n",
      "154/154 [==============================] - 17s 109ms/step - loss: 0.4020 - accuracy: 0.8159 - val_loss: 0.4258 - val_accuracy: 0.8071\n",
      "Epoch 148/200\n",
      "154/154 [==============================] - 17s 109ms/step - loss: 0.4018 - accuracy: 0.8160 - val_loss: 0.4301 - val_accuracy: 0.8070\n",
      "Epoch 149/200\n",
      "154/154 [==============================] - 17s 109ms/step - loss: 0.4019 - accuracy: 0.8160 - val_loss: 0.4252 - val_accuracy: 0.8099\n",
      "Epoch 150/200\n",
      "154/154 [==============================] - 17s 109ms/step - loss: 0.4019 - accuracy: 0.8158 - val_loss: 0.4247 - val_accuracy: 0.8097\n",
      "Epoch 151/200\n",
      "154/154 [==============================] - 17s 109ms/step - loss: 0.4018 - accuracy: 0.8160 - val_loss: 0.4247 - val_accuracy: 0.8110\n",
      "Epoch 152/200\n",
      "154/154 [==============================] - 17s 109ms/step - loss: 0.4015 - accuracy: 0.8160 - val_loss: 0.4229 - val_accuracy: 0.8108\n",
      "Epoch 153/200\n",
      "154/154 [==============================] - 17s 109ms/step - loss: 0.4016 - accuracy: 0.8160 - val_loss: 0.4263 - val_accuracy: 0.8097\n",
      "Epoch 154/200\n",
      "154/154 [==============================] - 17s 109ms/step - loss: 0.4013 - accuracy: 0.8163 - val_loss: 0.4254 - val_accuracy: 0.8098\n",
      "Epoch 155/200\n",
      "154/154 [==============================] - 17s 109ms/step - loss: 0.4013 - accuracy: 0.8162 - val_loss: 0.4284 - val_accuracy: 0.8106\n",
      "Epoch 156/200\n",
      "154/154 [==============================] - 17s 109ms/step - loss: 0.4011 - accuracy: 0.8163 - val_loss: 0.4270 - val_accuracy: 0.8112\n",
      "Epoch 157/200\n",
      "154/154 [==============================] - 17s 109ms/step - loss: 0.4012 - accuracy: 0.8161 - val_loss: 0.4260 - val_accuracy: 0.8096\n",
      "Epoch 158/200\n",
      "154/154 [==============================] - 17s 109ms/step - loss: 0.4011 - accuracy: 0.8162 - val_loss: 0.4305 - val_accuracy: 0.8112\n",
      "Epoch 159/200\n",
      "154/154 [==============================] - 17s 109ms/step - loss: 0.4011 - accuracy: 0.8164 - val_loss: 0.4305 - val_accuracy: 0.8075\n",
      "Epoch 160/200\n",
      "154/154 [==============================] - 17s 109ms/step - loss: 0.4010 - accuracy: 0.8164 - val_loss: 0.4296 - val_accuracy: 0.8061\n",
      "Epoch 161/200\n",
      "154/154 [==============================] - 17s 109ms/step - loss: 0.4008 - accuracy: 0.8165 - val_loss: 0.4264 - val_accuracy: 0.8069\n",
      "Epoch 162/200\n",
      "154/154 [==============================] - 17s 109ms/step - loss: 0.4010 - accuracy: 0.8164 - val_loss: 0.4231 - val_accuracy: 0.8115\n",
      "Epoch 163/200\n",
      "154/154 [==============================] - 17s 109ms/step - loss: 0.4006 - accuracy: 0.8166 - val_loss: 0.4243 - val_accuracy: 0.8111\n",
      "Epoch 164/200\n",
      "154/154 [==============================] - 17s 109ms/step - loss: 0.4004 - accuracy: 0.8167 - val_loss: 0.4240 - val_accuracy: 0.8109\n",
      "Epoch 165/200\n",
      "154/154 [==============================] - 17s 109ms/step - loss: 0.4006 - accuracy: 0.8166 - val_loss: 0.4231 - val_accuracy: 0.8097\n",
      "Epoch 166/200\n",
      "154/154 [==============================] - 17s 109ms/step - loss: 0.4005 - accuracy: 0.8166 - val_loss: 0.4287 - val_accuracy: 0.8096\n",
      "Epoch 167/200\n",
      "154/154 [==============================] - 17s 109ms/step - loss: 0.4002 - accuracy: 0.8167 - val_loss: 0.4269 - val_accuracy: 0.8109\n",
      "Epoch 168/200\n",
      "154/154 [==============================] - 17s 109ms/step - loss: 0.4002 - accuracy: 0.8167 - val_loss: 0.4313 - val_accuracy: 0.8071\n",
      "Epoch 169/200\n",
      "154/154 [==============================] - 17s 109ms/step - loss: 0.4001 - accuracy: 0.8166 - val_loss: 0.4314 - val_accuracy: 0.8086\n",
      "Epoch 170/200\n",
      "154/154 [==============================] - 17s 109ms/step - loss: 0.4000 - accuracy: 0.8167 - val_loss: 0.4235 - val_accuracy: 0.8119\n",
      "Epoch 171/200\n",
      "154/154 [==============================] - 17s 109ms/step - loss: 0.3999 - accuracy: 0.8167 - val_loss: 0.4286 - val_accuracy: 0.8114\n",
      "Epoch 172/200\n",
      "154/154 [==============================] - 17s 109ms/step - loss: 0.4000 - accuracy: 0.8168 - val_loss: 0.4258 - val_accuracy: 0.8090\n",
      "Epoch 173/200\n",
      "154/154 [==============================] - 17s 109ms/step - loss: 0.3999 - accuracy: 0.8168 - val_loss: 0.4266 - val_accuracy: 0.8114\n",
      "Epoch 174/200\n",
      "154/154 [==============================] - 17s 109ms/step - loss: 0.3997 - accuracy: 0.8169 - val_loss: 0.4231 - val_accuracy: 0.8105\n",
      "Epoch 175/200\n",
      "154/154 [==============================] - 17s 109ms/step - loss: 0.3996 - accuracy: 0.8169 - val_loss: 0.4266 - val_accuracy: 0.8079\n",
      "Epoch 176/200\n",
      "154/154 [==============================] - 17s 108ms/step - loss: 0.3995 - accuracy: 0.8170 - val_loss: 0.4248 - val_accuracy: 0.8101\n",
      "Epoch 177/200\n",
      "154/154 [==============================] - 17s 109ms/step - loss: 0.3992 - accuracy: 0.8171 - val_loss: 0.4285 - val_accuracy: 0.8099\n",
      "Epoch 178/200\n",
      "154/154 [==============================] - 17s 109ms/step - loss: 0.3995 - accuracy: 0.8171 - val_loss: 0.4286 - val_accuracy: 0.8070\n",
      "Epoch 179/200\n",
      "154/154 [==============================] - 17s 109ms/step - loss: 0.3992 - accuracy: 0.8171 - val_loss: 0.4279 - val_accuracy: 0.8096\n",
      "Epoch 180/200\n",
      "154/154 [==============================] - 17s 109ms/step - loss: 0.3990 - accuracy: 0.8172 - val_loss: 0.4287 - val_accuracy: 0.8109\n",
      "Epoch 181/200\n",
      "154/154 [==============================] - 17s 109ms/step - loss: 0.3992 - accuracy: 0.8170 - val_loss: 0.4258 - val_accuracy: 0.8109\n",
      "Epoch 182/200\n",
      "154/154 [==============================] - 17s 109ms/step - loss: 0.3989 - accuracy: 0.8171 - val_loss: 0.4228 - val_accuracy: 0.8093\n",
      "Epoch 183/200\n",
      "154/154 [==============================] - 17s 109ms/step - loss: 0.3990 - accuracy: 0.8171 - val_loss: 0.4233 - val_accuracy: 0.8101\n",
      "Epoch 184/200\n",
      "154/154 [==============================] - 17s 109ms/step - loss: 0.3988 - accuracy: 0.8171 - val_loss: 0.4263 - val_accuracy: 0.8082\n",
      "Epoch 185/200\n",
      "154/154 [==============================] - 17s 109ms/step - loss: 0.3988 - accuracy: 0.8171 - val_loss: 0.4294 - val_accuracy: 0.8102\n",
      "Epoch 186/200\n",
      "154/154 [==============================] - 17s 109ms/step - loss: 0.3988 - accuracy: 0.8172 - val_loss: 0.4234 - val_accuracy: 0.8076\n",
      "Epoch 187/200\n",
      "154/154 [==============================] - 17s 109ms/step - loss: 0.3991 - accuracy: 0.8170 - val_loss: 0.4209 - val_accuracy: 0.8100\n",
      "Epoch 188/200\n",
      "154/154 [==============================] - 17s 109ms/step - loss: 0.3985 - accuracy: 0.8172 - val_loss: 0.4221 - val_accuracy: 0.8101\n",
      "Epoch 189/200\n",
      "154/154 [==============================] - 17s 109ms/step - loss: 0.3986 - accuracy: 0.8173 - val_loss: 0.4232 - val_accuracy: 0.8106\n",
      "Epoch 190/200\n",
      "154/154 [==============================] - 17s 109ms/step - loss: 0.3985 - accuracy: 0.8172 - val_loss: 0.4250 - val_accuracy: 0.8098\n",
      "Epoch 191/200\n",
      "154/154 [==============================] - 17s 109ms/step - loss: 0.3985 - accuracy: 0.8173 - val_loss: 0.4315 - val_accuracy: 0.8068\n",
      "Epoch 192/200\n",
      "154/154 [==============================] - 17s 109ms/step - loss: 0.3984 - accuracy: 0.8173 - val_loss: 0.4267 - val_accuracy: 0.8087\n",
      "Epoch 193/200\n",
      "154/154 [==============================] - 17s 110ms/step - loss: 0.3983 - accuracy: 0.8173 - val_loss: 0.4228 - val_accuracy: 0.8105\n",
      "Epoch 194/200\n",
      "154/154 [==============================] - 17s 110ms/step - loss: 0.3981 - accuracy: 0.8175 - val_loss: 0.4290 - val_accuracy: 0.8092\n",
      "Epoch 195/200\n",
      "154/154 [==============================] - 17s 109ms/step - loss: 0.3981 - accuracy: 0.8173 - val_loss: 0.4293 - val_accuracy: 0.8067\n",
      "Epoch 196/200\n",
      "154/154 [==============================] - 17s 110ms/step - loss: 0.3980 - accuracy: 0.8173 - val_loss: 0.4292 - val_accuracy: 0.8067\n",
      "Epoch 197/200\n",
      "154/154 [==============================] - 17s 109ms/step - loss: 0.3980 - accuracy: 0.8174 - val_loss: 0.4291 - val_accuracy: 0.8059\n",
      "Epoch 198/200\n",
      "154/154 [==============================] - 17s 109ms/step - loss: 0.3981 - accuracy: 0.8173 - val_loss: 0.4278 - val_accuracy: 0.8092\n",
      "Epoch 199/200\n",
      "154/154 [==============================] - 17s 109ms/step - loss: 0.3980 - accuracy: 0.8175 - val_loss: 0.4276 - val_accuracy: 0.8099\n",
      "Epoch 200/200\n",
      "154/154 [==============================] - 17s 109ms/step - loss: 0.3982 - accuracy: 0.8173 - val_loss: 0.4300 - val_accuracy: 0.8095\n"
     ]
    }
   ],
   "source": [
    "# Converting for Tensorflow Compatibility\n",
    "Y = Y.astype('float64')\n",
    "Y_val = Y_val.astype('float64')\n",
    "\n",
    "# Compiling the model\n",
    "model.compile(optimizer = keras.optimizers.Adam(learning_rate=0.001), loss='binary_crossentropy',metrics=['accuracy'])\n",
    "\n",
    "# Fitting the model\n",
    "history = model.fit(X, Y, batch_size=BATCH_SIZE, epochs=200, validation_data = (X_val , Y_val))"
   ]
  },
  {
   "cell_type": "code",
   "execution_count": 17,
   "metadata": {
    "colab": {
     "base_uri": "https://localhost:8080/",
     "height": 585
    },
    "id": "0Zt9SDtNxhWu",
    "outputId": "b3c031f9-9702-4f42-ef7e-5fd472560eb5"
   },
   "outputs": [
    {
     "data": {
      "image/png": "[encoded data removed]",
      "text/plain": [
       "<Figure size 432x288 with 1 Axes>"
      ]
     },
     "metadata": {},
     "output_type": "display_data"
    },
    {
     "data": {
      "image/png": "[encoded data removed]",
      "text/plain": [
       "<Figure size 432x288 with 1 Axes>"
      ]
     },
     "metadata": {},
     "output_type": "display_data"
    }
   ],
   "source": [
    "# Summarize history for accuracy\n",
    "plt.plot(history.history['accuracy'])\n",
    "plt.plot(history.history['val_accuracy'])\n",
    "plt.title('model accuracy')\n",
    "plt.ylabel('accuracy')\n",
    "plt.xlabel('epoch')\n",
    "plt.legend(['train', 'val'], loc='upper left')\n",
    "plt.show()\n",
    "# Summarize history for loss\n",
    "plt.plot(history.history['loss'])\n",
    "plt.plot(history.history['val_loss'])\n",
    "plt.title('model loss')\n",
    "plt.ylabel('loss')\n",
    "plt.xlabel('epoch')\n",
    "plt.legend(['train', 'val'], loc='upper left')\n",
    "plt.show()"
   ]
  },
  {
   "cell_type": "markdown",
   "metadata": {
    "id": "lal2qqZ9P7TA"
   },
   "source": [
    "## Testing"
   ]
  },
  {
   "cell_type": "code",
   "execution_count": 18,
   "metadata": {
    "id": "Ipltlf3gOdyQ"
   },
   "outputs": [],
   "source": [
    "# Preprocessing the Test Dataset\n",
    "\n",
    "for i in range(len(Test)):\n",
    "    Test[i][1] = data = [ word2idx[word] for word in Test[i][1] if word in word2idx]\n",
    "\n",
    "# Splitting the Test set and padding the features\n",
    "\n",
    "X_test = tf.keras.preprocessing.sequence.pad_sequences(Test[ : , 1] , padding = 'post' , maxlen = MAX_LEN)\n",
    "Y_test = Test[ : , 0]"
   ]
  },
  {
   "cell_type": "code",
   "execution_count": 26,
   "metadata": {
    "id": "_B2OIZxVinL0"
   },
   "outputs": [],
   "source": [
    "# Predicting\n",
    "Y_pred = model.predict(X_test)\n",
    "\n",
    "Y_pred = np.where(Y_pred > 0.5, 1, 0)\n",
    "Y_test = list(Y_test)"
   ]
  },
  {
   "cell_type": "code",
   "execution_count": 28,
   "metadata": {
    "colab": {
     "base_uri": "https://localhost:8080/",
     "height": 340
    },
    "id": "PEAjIzYXPgI7",
    "outputId": "facf7fdf-1ebc-47f0-e04d-37128237793d"
   },
   "outputs": [
    {
     "data": {
      "text/plain": [
       "<matplotlib.axes._subplots.AxesSubplot at 0x7f5af88a00d0>"
      ]
     },
     "execution_count": 28,
     "metadata": {},
     "output_type": "execute_result"
    },
    {
     "data": {
      "image/png": "[encoded data removed]",
      "text/plain": [
       "<Figure size 504x360 with 2 Axes>"
      ]
     },
     "metadata": {},
     "output_type": "display_data"
    }
   ],
   "source": [
    "# Plotting the Confusion Matrix\n",
    "from sklearn.metrics import confusion_matrix\n",
    "df_cm = confusion_matrix(Y_test, Y_pred)\n",
    "\n",
    "plt.figure(figsize = (7,5))\n",
    "sns.heatmap(df_cm / len(Y_test) * 100, fmt = '.2f', annot=True)"
   ]
  },
  {
   "cell_type": "code",
   "execution_count": 29,
   "metadata": {
    "colab": {
     "base_uri": "https://localhost:8080/"
    },
    "id": "vaf9SwZosgq_",
    "outputId": "fc00fdc5-8be0-4eb9-eefd-2e9499b1673c"
   },
   "outputs": [
    {
     "name": "stdout",
     "output_type": "stream",
     "text": [
      "              precision    recall  f1-score   support\n",
      "\n",
      "           0       0.79      0.84      0.81      8000\n",
      "           1       0.83      0.77      0.80      8000\n",
      "\n",
      "    accuracy                           0.81     16000\n",
      "   macro avg       0.81      0.81      0.81     16000\n",
      "weighted avg       0.81      0.81      0.81     16000\n",
      "\n"
     ]
    }
   ],
   "source": [
    "# Metrics related to the classification\n",
    "from sklearn.metrics import classification_report\n",
    "\n",
    "print(classification_report(Y_test, Y_pred))"
   ]
  }
 ],
 "metadata": {
  "accelerator": "GPU",
  "colab": {
   "collapsed_sections": [],
   "name": "TSA-1.ipynb",
   "provenance": []
  },
  "kernelspec": {
   "display_name": "Python 3",
   "language": "python",
   "name": "python3"
  },
  "language_info": {
   "codemirror_mode": {
    "name": "ipython",
    "version": 3
   },
   "file_extension": ".py",
   "mimetype": "text/x-python",
   "name": "python",
   "nbconvert_exporter": "python",
   "pygments_lexer": "ipython3",
   "version": "3.8.10"
  }
 },
 "nbformat": 4,
 "nbformat_minor": 1
}
